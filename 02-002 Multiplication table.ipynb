{
 "cells": [
  {
   "cell_type": "markdown",
   "metadata": {},
   "source": [
    "# 输出 9*9 乘法口诀表"
   ]
  },
  {
   "cell_type": "code",
   "execution_count": 1,
   "metadata": {},
   "outputs": [
    {
     "name": "stdout",
     "output_type": "stream",
     "text": [
      "\n",
      "1X1=1  \n",
      "1X2=2  2X2=4  \n",
      "1X3=3  2X3=6  3X3=9  \n",
      "1X4=4  2X4=8  3X4=12  4X4=16  \n",
      "1X5=5  2X5=10  3X5=15  4X5=20  5X5=25  \n",
      "1X6=6  2X6=12  3X6=18  4X6=24  5X6=30  6X6=36  \n",
      "1X7=7  2X7=14  3X7=21  4X7=28  5X7=35  6X7=42  7X7=49  \n",
      "1X8=8  2X8=16  3X8=24  4X8=32  5X8=40  6X8=48  7X8=56  8X8=64  \n",
      "1X9=9  2X9=18  3X9=27  4X9=36  5X9=45  6X9=54  7X9=63  8X9=72  9X9=81  "
     ]
    }
   ],
   "source": [
    "for i in range(1,10):\n",
    "    print()\n",
    "    for j in range (1,i+1):\n",
    "        print(\"%dX%d=%d\" %(j,i,i*j),end='  ')"
   ]
  }
 ],
 "metadata": {
  "kernelspec": {
   "display_name": "Python 3",
   "language": "python",
   "name": "python3"
  },
  "language_info": {
   "codemirror_mode": {
    "name": "ipython",
    "version": 3
   },
   "file_extension": ".py",
   "mimetype": "text/x-python",
   "name": "python",
   "nbconvert_exporter": "python",
   "pygments_lexer": "ipython3",
   "version": "3.6.10"
  }
 },
 "nbformat": 4,
 "nbformat_minor": 2
}
