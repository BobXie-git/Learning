{
 "cells": [
  {
   "cell_type": "markdown",
   "metadata": {},
   "source": [
    "# 将一个正整数分解质因数。例如：输入90,打印出90=2*3*3*5"
   ]
  },
  {
   "cell_type": "code",
   "execution_count": 1,
   "metadata": {},
   "outputs": [
    {
     "name": "stdout",
     "output_type": "stream",
     "text": [
      "Input an int:100\n",
      "100 = 2 * 2 * 5 * 5\n"
     ]
    }
   ],
   "source": [
    "N=int(input('Input an int:'))\n",
    "n=N\n",
    "lst1=[]\n",
    "lst2=[]\n",
    "# find all prime which less then N\n",
    "for i in range(2,n):\n",
    "    for j in range(2,i):\n",
    "        if i%j==0:\n",
    "            break\n",
    "    else: \n",
    "        lst1.append(i)\n",
    "        \n",
    "# factorization        \n",
    "while n!=1:\n",
    "    for k in lst1:\n",
    "        if n%k==0:\n",
    "            n=n/k\n",
    "            lst2.append(k)\n",
    "lst2.sort()\n",
    "\n",
    "#Output the format \n",
    "print(N,'= ',end='')\n",
    "for idx in range(0,len(lst2)-1):\n",
    "    m=lst2[idx]\n",
    "    print(\"%d *\" %m, end=\" \")\n",
    "print(lst2[-1])"
   ]
  }
 ],
 "metadata": {
  "kernelspec": {
   "display_name": "Python 3",
   "language": "python",
   "name": "python3"
  },
  "language_info": {
   "codemirror_mode": {
    "name": "ipython",
    "version": 3
   },
   "file_extension": ".py",
   "mimetype": "text/x-python",
   "name": "python",
   "nbconvert_exporter": "python",
   "pygments_lexer": "ipython3",
   "version": "3.6.10"
  }
 },
 "nbformat": 4,
 "nbformat_minor": 2
}
